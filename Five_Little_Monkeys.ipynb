{
  "nbformat": 4,
  "nbformat_minor": 0,
  "metadata": {
    "colab": {
      "name": "Five Little Monkeys ",
      "provenance": [],
      "authorship_tag": "ABX9TyNeQe1PYMeMxxtuoMLi7CJV",
      "include_colab_link": true
    },
    "kernelspec": {
      "name": "python3",
      "display_name": "Python 3"
    },
    "language_info": {
      "name": "python"
    }
  },
  "cells": [
    {
      "cell_type": "markdown",
      "metadata": {
        "id": "view-in-github",
        "colab_type": "text"
      },
      "source": [
        "<a href=\"https://colab.research.google.com/github/solyanab/5-_little_monkeys/blob/main/Five_Little_Monkeys.ipynb\" target=\"_parent\"><img src=\"https://colab.research.google.com/assets/colab-badge.svg\" alt=\"Open In Colab\"/></a>"
      ]
    },
    {
      "cell_type": "code",
      "metadata": {
        "colab": {
          "base_uri": "https://localhost:8080/"
        },
        "id": "h5CO2OCnATx6",
        "outputId": "1853d5b5-cfad-4732-a134-2e30563c3231"
      },
      "source": [
        "number = int(input(\"Type in any number:\"))\n",
        "# for x in range(int(number), -1, -1):\n",
        "#     print(x)\n",
        "while True:    \n",
        "    if number == 0:\n",
        "         print(\"No little monkeys jumping on the bed, none fell of and bumped their head. Momma called the docter and the docter said \\\"PUT THOSE MONKEYS BACK TO BED!\\\"\")\n",
        "         break\n",
        "    print(f\"{number} little monkeys jumping on the bed, one fell of and bumped his head. Momma\\\n",
        " called the docter, and the docter said \\\"NO MORE MONKEYS JUMPING ON THE BED!\\\"\")\n",
        "    number = number -1\n",
        "    \n"
      ],
      "execution_count": null,
      "outputs": [
        {
          "output_type": "stream",
          "text": [
            "Type in any number:5\n",
            "5 little monkeys jumping on the bed, one fell of and bumped his head. Momma called the docter, and the docter said \"NO MORE MONKEYS JUMPING ON THE BED!\"\n",
            "4 little monkeys jumping on the bed, one fell of and bumped his head. Momma called the docter, and the docter said \"NO MORE MONKEYS JUMPING ON THE BED!\"\n",
            "3 little monkeys jumping on the bed, one fell of and bumped his head. Momma called the docter, and the docter said \"NO MORE MONKEYS JUMPING ON THE BED!\"\n",
            "2 little monkeys jumping on the bed, one fell of and bumped his head. Momma called the docter, and the docter said \"NO MORE MONKEYS JUMPING ON THE BED!\"\n",
            "1 little monkeys jumping on the bed, one fell of and bumped his head. Momma called the docter, and the docter said \"NO MORE MONKEYS JUMPING ON THE BED!\"\n",
            "No little monkeys jumping on the bed, none fell of and bumped their head. Momma called the docter and the docter said \"PUT THOSE MONKEYS BACK TO BED!\"\n"
          ],
          "name": "stdout"
        }
      ]
    }
  ]
}